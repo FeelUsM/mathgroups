{
 "cells": [
  {
   "cell_type": "code",
   "execution_count": 1,
   "metadata": {
    "ExecuteTime": {
     "end_time": "2020-06-08T10:16:42.361395Z",
     "start_time": "2020-06-08T10:16:42.354395Z"
    }
   },
   "outputs": [],
   "source": [
    "# по номерам\n",
    "def mul(x,y):\n",
    "    assert len(x)==len(y)\n",
    "    return tuple((y[i] for i in x))\n",
    "def inv(x):\n",
    "    y = [-1]*len(x)\n",
    "    for i in range(len(x)):\n",
    "        y[x[i]]=i\n",
    "    return tuple(y)"
   ]
  },
  {
   "cell_type": "code",
   "execution_count": null,
   "metadata": {},
   "outputs": [],
   "source": []
  },
  {
   "cell_type": "code",
   "execution_count": 2,
   "metadata": {
    "ExecuteTime": {
     "end_time": "2020-06-08T10:16:42.381396Z",
     "start_time": "2020-06-08T10:16:42.368396Z"
    }
   },
   "outputs": [],
   "source": [
    "def from_cycle(cycles,size):\n",
    "    x = [i for i in range(size)]\n",
    "    if len(cycles)>0 and type(cycles[0])==int:\n",
    "        cycles = [cycles]\n",
    "    #print(cycles)\n",
    "    for cycle in cycles:\n",
    "        for i in range(len(cycle)-1):\n",
    "            s = cycle[i]\n",
    "            d = cycle[i+1]\n",
    "            x[s] = d\n",
    "        x[cycle[-1]] = cycle[0]\n",
    "    return tuple(x)"
   ]
  },
  {
   "cell_type": "code",
   "execution_count": 3,
   "metadata": {
    "ExecuteTime": {
     "end_time": "2020-06-08T10:16:42.546406Z",
     "start_time": "2020-06-08T10:16:42.385397Z"
    }
   },
   "outputs": [],
   "source": [
    "def inv(x):\n",
    "    y = [-1]*len(x)\n",
    "    for i in range(len(x)):\n",
    "        y[x[i]]=i\n",
    "    return tuple(y)"
   ]
  },
  {
   "cell_type": "code",
   "execution_count": 4,
   "metadata": {
    "ExecuteTime": {
     "end_time": "2020-06-08T10:16:42.638411Z",
     "start_time": "2020-06-08T10:16:42.548406Z"
    }
   },
   "outputs": [],
   "source": [
    "# по позициям\n",
    "def mul(x,y):\n",
    "    assert len(x)==len(y)\n",
    "    z = [-1]*len(x)\n",
    "    for i in range(len(y)):\n",
    "        z[i]=x[y[i]]\n",
    "    return tuple(z)"
   ]
  },
  {
   "cell_type": "code",
   "execution_count": 5,
   "metadata": {
    "ExecuteTime": {
     "end_time": "2020-06-08T10:16:42.737417Z",
     "start_time": "2020-06-08T10:16:42.640411Z"
    }
   },
   "outputs": [],
   "source": [
    "def sims_from_rel(rel):\n",
    "    for i in range(len(rel)):\n",
    "        yield (rel,'')\n",
    "        for j in range(1,(len(rel)+1)//2):\n",
    "            yield (rel[:-j],rel[-1:-j-1:-1].swapcase())\n",
    "        rel = rel[1:]+rel[0]\n",
    "    rel = rel[::-1].swapcase()\n",
    "    for i in range(len(rel)):\n",
    "        yield (rel,'')\n",
    "        for j in range(1,(len(rel)+1)//2):\n",
    "            yield (rel[:-j],rel[-1:-j-1:-1].swapcase())\n",
    "        rel = rel[1:]+rel[0]\n"
   ]
  },
  {
   "cell_type": "code",
   "execution_count": 6,
   "metadata": {
    "ExecuteTime": {
     "end_time": "2020-06-08T10:16:42.856424Z",
     "start_time": "2020-06-08T10:16:42.739417Z"
    }
   },
   "outputs": [
    {
     "data": {
      "text/plain": [
       "'ba'"
      ]
     },
     "execution_count": 6,
     "metadata": {},
     "output_type": "execute_result"
    }
   ],
   "source": [
    "rel = 'ababab'\n",
    "j=2\n",
    "rel[-1:-j-1:-1]"
   ]
  },
  {
   "cell_type": "code",
   "execution_count": 7,
   "metadata": {
    "ExecuteTime": {
     "end_time": "2020-06-08T10:16:42.958429Z",
     "start_time": "2020-06-08T10:16:42.864424Z"
    }
   },
   "outputs": [
    {
     "data": {
      "text/plain": [
       "{('ABAB', 'ba'),\n",
       " ('ABABA', 'b'),\n",
       " ('ABABAB', ''),\n",
       " ('BABA', 'ab'),\n",
       " ('BABAB', 'a'),\n",
       " ('BABABA', ''),\n",
       " ('abab', 'BA'),\n",
       " ('ababa', 'B'),\n",
       " ('ababab', ''),\n",
       " ('baba', 'AB'),\n",
       " ('babab', 'A'),\n",
       " ('bababa', '')}"
      ]
     },
     "execution_count": 7,
     "metadata": {},
     "output_type": "execute_result"
    }
   ],
   "source": [
    "{x for x in sims_from_rel('ababab')}"
   ]
  },
  {
   "cell_type": "code",
   "execution_count": 8,
   "metadata": {
    "ExecuteTime": {
     "end_time": "2020-06-08T10:16:43.058435Z",
     "start_time": "2020-06-08T10:16:42.962430Z"
    }
   },
   "outputs": [
    {
     "data": {
      "text/plain": [
       "{('AA', 'a'), ('AAA', ''), ('aa', 'A'), ('aaa', '')}"
      ]
     },
     "execution_count": 8,
     "metadata": {},
     "output_type": "execute_result"
    }
   ],
   "source": [
    "{x for x in sims_from_rel('aaa')}"
   ]
  },
  {
   "cell_type": "code",
   "execution_count": 9,
   "metadata": {
    "ExecuteTime": {
     "end_time": "2020-06-08T10:16:43.153441Z",
     "start_time": "2020-06-08T10:16:43.066436Z"
    }
   },
   "outputs": [],
   "source": [
    "def symsims_from_rel(rel):\n",
    "    if len(rel)%2 !=0: return \n",
    "    for i in range(len(rel)):\n",
    "        j = len(rel)//2 \n",
    "        a = rel[:-j]\n",
    "        b = rel[-1:-j-1:-1].swapcase()\n",
    "        if a>b:  yield (a,b)\n",
    "        elif a<b:  yield (b,a)\n",
    "        rel = rel[1:]+rel[0]\n"
   ]
  },
  {
   "cell_type": "code",
   "execution_count": 10,
   "metadata": {
    "ExecuteTime": {
     "end_time": "2020-06-08T10:16:43.247446Z",
     "start_time": "2020-06-08T10:16:43.159441Z"
    }
   },
   "outputs": [
    {
     "data": {
      "text/plain": [
       "{'ab': 'DC', 'bc': 'AD', 'cd': 'BA', 'da': 'CB'}"
      ]
     },
     "execution_count": 10,
     "metadata": {},
     "output_type": "execute_result"
    }
   ],
   "source": [
    "{k:v for k,v in symsims_from_rel('abcd')}"
   ]
  },
  {
   "cell_type": "code",
   "execution_count": 11,
   "metadata": {
    "ExecuteTime": {
     "end_time": "2020-06-08T10:16:43.363453Z",
     "start_time": "2020-06-08T10:16:43.255446Z"
    }
   },
   "outputs": [
    {
     "data": {
      "text/plain": [
       "{'aa': 'AA'}"
      ]
     },
     "execution_count": 11,
     "metadata": {},
     "output_type": "execute_result"
    }
   ],
   "source": [
    "{k:v for k,v in symsims_from_rel('aaaa')}"
   ]
  },
  {
   "cell_type": "code",
   "execution_count": 12,
   "metadata": {
    "ExecuteTime": {
     "end_time": "2020-06-08T10:16:43.445457Z",
     "start_time": "2020-06-08T10:16:43.371453Z"
    }
   },
   "outputs": [],
   "source": [
    "def standardize_rel(rel):\n",
    "    minrel = rel\n",
    "    for i in range(len(rel)):\n",
    "        if rel<minrel: minrel = rel\n",
    "        rel = rel[1:]+rel[0]\n",
    "    rel = rel[::-1].swapcase()\n",
    "    for i in range(len(rel)):\n",
    "        if rel<minrel: minrel = rel\n",
    "        rel = rel[1:]+rel[0]\n",
    "    return minrel"
   ]
  },
  {
   "cell_type": "code",
   "execution_count": 13,
   "metadata": {
    "ExecuteTime": {
     "end_time": "2020-06-08T10:16:43.562464Z",
     "start_time": "2020-06-08T10:16:43.447457Z"
    }
   },
   "outputs": [],
   "source": [
    "import copy\n",
    "def listind(l,p,void=None):\n",
    "    while len(l)<=p: l.append(copy.copy(void))\n",
    "    #print(l)\n",
    "    return l[p]"
   ]
  },
  {
   "cell_type": "code",
   "execution_count": 14,
   "metadata": {
    "ExecuteTime": {
     "end_time": "2020-06-08T10:16:43.671470Z",
     "start_time": "2020-06-08T10:16:43.564464Z"
    }
   },
   "outputs": [],
   "source": [
    "import re\n",
    "def simplify(sims,symsims,op,stop):\n",
    "    simplified = True\n",
    "    while simplified:\n",
    "        simplified = False\n",
    "        for i in range(len(op)+1):\n",
    "            if i<len(sims):\n",
    "                for f,t in sims[i].items():\n",
    "                    op,n = re.subn(f,t,op)\n",
    "                    if n>0: simplified = True\n",
    "                    if len(op)<stop: break\n",
    "            if i<len(symsims):\n",
    "                for f,t in symsims[i].items():\n",
    "                    op,n = re.subn(f,t,op)\n",
    "                    if n>0: simplified = True\n",
    "                    if len(op)<stop: break\n",
    "            if len(op)<stop: break\n",
    "        if len(op)<stop: break\n",
    "    return op\n",
    "    "
   ]
  },
  {
   "cell_type": "code",
   "execution_count": 15,
   "metadata": {
    "ExecuteTime": {
     "end_time": "2020-06-08T10:16:43.826479Z",
     "start_time": "2020-06-08T10:16:43.677471Z"
    }
   },
   "outputs": [
    {
     "data": {
      "text/plain": [
       "''"
      ]
     },
     "execution_count": 15,
     "metadata": {},
     "output_type": "execute_result"
    }
   ],
   "source": [
    "sgens = 'ab'\n",
    "rels = {'aaa','bbbb','abab'}\n",
    "gens = set()\n",
    "for g in sgens:\n",
    "    rels.add(standardize_rel(g+g[::-1].swapcase()))\n",
    "    gens.add(g)\n",
    "    gens.add(g[::-1].swapcase())\n",
    "# строим упрощающие конструкции\n",
    "sims = []\n",
    "symsims = []\n",
    "for rel in rels:\n",
    "    for k,v in sims_from_rel(rel):\n",
    "        listind(sims,len(k),{})[k] = v\n",
    "    for k,v in symsims_from_rel(rel):\n",
    "        listind(symsims,len(k),{})[k] = v\n",
    "simplify(sims,symsims,'ABaaB',0)"
   ]
  },
  {
   "cell_type": "code",
   "execution_count": 16,
   "metadata": {
    "ExecuteTime": {
     "end_time": "2020-06-08T10:16:43.930485Z",
     "start_time": "2020-06-08T10:16:43.834479Z"
    }
   },
   "outputs": [],
   "source": [
    "import re\n",
    "def group_from_rels(sgens,rels,stoplen):\n",
    "    # sgens - строка, rels - set\n",
    "    # добавляем обратные элементы в генераторы, и соотношения об этом\n",
    "    gens = set()\n",
    "    for g in sgens:\n",
    "        rels.add(standardize_rel(g+g[::-1].swapcase()))\n",
    "        gens.add(g)\n",
    "        gens.add(g[::-1].swapcase())\n",
    "    # строим упрощающие конструкции\n",
    "    sims = []\n",
    "    symsims = []\n",
    "    for rel in rels:\n",
    "        for k,v in sims_from_rel(rel):\n",
    "            listind(sims,len(k),{})[k] = v\n",
    "        for k,v in symsims_from_rel(rel):\n",
    "            listind(symsims,len(k),{})[k] = v\n",
    "    print(sims,symsims)\n",
    "    # поехали\n",
    "    ops = [{''}]\n",
    "    for it in range(1,stoplen):\n",
    "        print(it)\n",
    "        ops.append(set())\n",
    "        for op1 in ops[it-1]:\n",
    "            for g in gens:\n",
    "                # рассматриваем оператор\n",
    "                op=op1+g\n",
    "#                print('рассматриваем',op)\n",
    "                # пытаемся его упростить\n",
    "                op = simplify(sims,symsims,op,it)\n",
    "                if len(op)<it: \n",
    "#                    print('упрощено')\n",
    "                    continue\n",
    "                # упростить не получилось, сравниваем со всеми уже полученными операторами\n",
    "                found = False\n",
    "                for it2 in range(1,it+1):\n",
    "                    for op2 in ops[it2]:\n",
    "                        test = op+(op2[::-1].swapcase())\n",
    "#                        print(test)\n",
    "                        test = simplify(sims,symsims,test,0)\n",
    "                        if test=='': # симплифицировали\n",
    "                            found = True\n",
    "                            print(op,'==',op2,' -> ',op+(op2[::-1].swapcase()))\n",
    "                            break\n",
    "                    if found: break\n",
    "                if not found:\n",
    "                    ops[it].add(op)\n",
    "#                    print('   добавляем')\n",
    "    return ops    \n",
    "                "
   ]
  },
  {
   "cell_type": "code",
   "execution_count": 17,
   "metadata": {
    "ExecuteTime": {
     "end_time": "2020-06-08T10:16:44.056492Z",
     "start_time": "2020-06-08T10:16:43.932485Z"
    },
    "scrolled": false
   },
   "outputs": [
    {
     "name": "stdout",
     "output_type": "stream",
     "text": [
      "[{}, {}, {'aa': '', 'AA': '', 'Aa': '', 'aA': '', 'Bb': '', 'bB': '', 'bb': '', 'BB': ''}, {}, {'abab': 'BA', 'baba': 'AB', 'BABA': 'ab', 'ABAB': 'ba'}, {'ababa': 'B', 'babab': 'A', 'BABAB': 'a', 'ABABA': 'b'}, {'ababab': '', 'bababa': '', 'BABABA': '', 'ABABAB': ''}] [{}, {'a': 'A', 'b': 'B'}, {}, {'aba': 'BAB', 'bab': 'ABA'}]\n",
      "1\n",
      "B == B  ->  Bb\n",
      "A == A  ->  Aa\n",
      "2\n",
      "BA == BA  ->  BAab\n",
      "AB == AB  ->  ABba\n",
      "3\n",
      "BAB == BAB  ->  BABbab\n",
      "ABA == BAB  ->  ABAbab\n",
      "ABA == BAB  ->  ABAbab\n",
      "4\n",
      "5\n",
      "6\n"
     ]
    },
    {
     "data": {
      "text/plain": [
       "[{''}, {'A', 'B'}, {'AB', 'BA'}, {'BAB'}, set(), set(), set()]"
      ]
     },
     "execution_count": 17,
     "metadata": {},
     "output_type": "execute_result"
    }
   ],
   "source": [
    "group_from_rels('ab',{'aa','bb','ababab'},7)"
   ]
  },
  {
   "cell_type": "code",
   "execution_count": 18,
   "metadata": {
    "ExecuteTime": {
     "end_time": "2020-06-08T10:16:44.436514Z",
     "start_time": "2020-06-08T10:16:44.065493Z"
    },
    "scrolled": true
   },
   "outputs": [
    {
     "name": "stdout",
     "output_type": "stream",
     "text": [
      "[{}, {}, {'Aa': '', 'aA': '', 'Bb': '', 'bB': '', 'aa': 'A', 'AA': 'a'}, {'bbb': 'B', 'BBB': 'b', 'aba': 'B', 'bab': 'A', 'BAB': 'a', 'ABA': 'b', 'aaa': '', 'AAA': ''}, {'bbbb': '', 'BBBB': '', 'abab': '', 'baba': '', 'BABA': '', 'ABAB': ''}, {'aBaBa': 'bAb', 'BaBaB': 'AbA', 'bAbAb': 'aBa', 'AbAbA': 'BaB'}, {'aBaBaB': 'bA', 'BaBaBa': 'Ab', 'bAbAbA': 'aB', 'AbAbAb': 'Ba'}, {'aBaBaBa': 'b', 'BaBaBaB': 'A', 'bAbAbAb': 'a', 'AbAbAbA': 'B'}, {'aBaBaBaB': '', 'BaBaBaBa': '', 'bAbAbAbA': '', 'AbAbAbAb': ''}] [{}, {}, {'bb': 'BB', 'ab': 'BA', 'ba': 'AB'}, {}, {'bAbA': 'aBaB', 'BaBa': 'AbAb'}]\n",
      "1\n",
      "2\n",
      "BA == BA  ->  BAab\n",
      "BB == BB  ->  BBbb\n",
      "AB == AB  ->  ABba\n",
      "3\n",
      "aBB == BAb  ->  aBBBab\n",
      "aBA == Ab  ->  aBABa\n",
      "BBa == bAB  ->  BBabaB\n",
      "ABa == bA  ->  ABaaB\n",
      "ABB == ABB  ->  ABBbba\n",
      "AbA == aBa  ->  AbAAbA\n",
      "BBA == BBA  ->  BBAabb\n",
      "4\n",
      "ABBA == bAb  ->  ABBABaB\n",
      "ABBa == aBaB  ->  ABBabAbA\n",
      "aBaB == aBaB  ->  aBaBbAbA\n",
      "BaBA == BAb  ->  BaBABab\n",
      "AbAb == aBBA  ->  AbAbabbA\n",
      "BBAb == BaBB  ->  BBAbbbAb\n",
      "bABB == bABB  ->  bABBbbaB\n",
      "bABa == BBA  ->  bABaabb\n",
      "BAbA == aBBA  ->  BAbAabbA\n",
      "5\n",
      "aBaBB == bABBa  ->  aBaBBAbbaB\n",
      "aBaBA == ABB  ->  aBaBAbba\n",
      "BaBBA == aBBAb  ->  BaBBABabbA\n",
      "6\n",
      "bABBaB == aBBA  ->  bABBaBabbA\n",
      "aBBAbA == BaBBa  ->  aBBAbAAbbAb\n",
      "7\n",
      "8\n",
      "BaBBaBBA == BaBAbABB  ->  BaBBaBBAbbaBabAb\n"
     ]
    },
    {
     "data": {
      "text/plain": [
       "[{''},\n",
       " {'A', 'B', 'a', 'b'},\n",
       " {'AB', 'Ab', 'BA', 'BB', 'Ba', 'aB', 'bA'},\n",
       " {'ABB', 'BAb', 'BBA', 'BaB', 'aBa', 'bAB', 'bAb'},\n",
       " {'BaBB', 'aBBA', 'aBaB', 'bABB'},\n",
       " {'BaBBa', 'aBBAb', 'bABBA', 'bABBa'},\n",
       " {'BaBBaB', 'bABBAb'},\n",
       " {'BaBAbAb', 'BaBBaBA', 'BaBBaBB', 'bABBAbA'},\n",
       " {'BaBAbABB', 'BaBBaBAb', 'BaBBaBBa', 'bABBAbAB', 'bABBAbAb'}]"
      ]
     },
     "execution_count": 18,
     "metadata": {},
     "output_type": "execute_result"
    }
   ],
   "source": [
    "group_from_rels('ab',{'aaa','bbbb','abab','aBaBaBaB'},9)"
   ]
  },
  {
   "cell_type": "code",
   "execution_count": null,
   "metadata": {},
   "outputs": [],
   "source": []
  },
  {
   "cell_type": "code",
   "execution_count": null,
   "metadata": {},
   "outputs": [],
   "source": []
  },
  {
   "cell_type": "code",
   "execution_count": 19,
   "metadata": {
    "ExecuteTime": {
     "end_time": "2020-06-08T10:16:44.485517Z",
     "start_time": "2020-06-08T10:16:44.447515Z"
    }
   },
   "outputs": [],
   "source": [
    "def gen_rels(gens,stoplen):\n",
    "    # добавляем обратные элементы в генераторы\n",
    "    invgens = {}\n",
    "    for g,gn in gens.items():\n",
    "        invgens[inv(g)]=gn[::-1].swapcase()\n",
    "    for g,gn in invgens.items():\n",
    "        if g not in gens:\n",
    "            gens[g]=gn\n",
    "    # и соотношения об этом\n",
    "    rels = set()\n",
    "    for g,n in gens.items():\n",
    "        rels.add(standardize_rel(n+n[::-1].swapcase()))\n",
    "    sims = []\n",
    "    symsims = []\n",
    "    for rel in rels:\n",
    "        for k,v in sims_from_rel(rel):\n",
    "            listind(sims,len(k),{})[k] = v\n",
    "        for k,v in symsims_from_rel(rel):\n",
    "            listind(symsims,len(k),{})[k] = v\n",
    "    # поехали\n",
    "    ops = [{tuple(i for i in range(len(next(iter(gens))))):''}]\n",
    "#    print(ops)\n",
    "    for it in range(1,stoplen):\n",
    "#        print('---',it,'---')\n",
    "        ops.append({})\n",
    "        for op1,n1 in ops[it-1].items():\n",
    "            for g,gn in gens.items():\n",
    "                op = mul(op1,g)\n",
    "                n = n1+gn\n",
    "                n = simplify(sims,symsims,n,it)\n",
    "#                print('рассматриваю',n1,gn,'=',n)\n",
    "                if len(n)<it:\n",
    "                    if op in ops[len(n)]: continue\n",
    "                    found = False\n",
    "                    for i in range(it,-1,-1):\n",
    "                        if op in ops[i]:\n",
    "                            found = True\n",
    "                            print(n1,gn,'->',n,'==',ops[i][op])\n",
    "                            break\n",
    "                    assert found,(n1,gn,n,op)\n",
    "                    continue # упростилось\n",
    "                    \n",
    "#                print(it,it-1)\n",
    "                if op in ops[it] or op in ops[it-1]:\n",
    "                    # нашли в текущем или предыдущем\n",
    "                    if op in ops[it]:  \n",
    "                        n2 = ops[it][op]\n",
    "                    else:\n",
    "                        n2 = ops[it-1][op]\n",
    "                    \n",
    "                    rel = simplify(sims,symsims, n+n2[::-1].swapcase() ,0)\n",
    "                    if rel=='': continue\n",
    "                    rels.add(standardize_rel(rel))\n",
    "                    for k,v in sims_from_rel(rel):\n",
    "                        listind(sims,len(k),{})[k] = v\n",
    "                    for k,v in symsims_from_rel(rel):\n",
    "                        listind(symsims,len(k),{})[k] = v\n",
    "                    continue\n",
    "                    \n",
    "                found = False\n",
    "                for i in range(it-2,-1,-1):\n",
    "#                    print(i)\n",
    "                    if op in ops[i]:\n",
    "                        found = True\n",
    "                        # нашли в прошлых\n",
    "                        n2 = ops[i][op]\n",
    "                        rel = simplify(sims,symsims, n+n2[::-1].swapcase() ,0)\n",
    "                        print(n,'==',n2,' -> ',rel)\n",
    "                        if rel=='': break\n",
    "                        rels.add(standardize_rel(rel))\n",
    "                        for k,v in sims_from_rel(rel):\n",
    "                            listind(sims,len(k),{})[k] = v\n",
    "                        for k,v in symsims_from_rel(rel):\n",
    "                            listind(symsims,len(k),{})[k] = v\n",
    "                        break\n",
    "                if found: continue\n",
    "                \n",
    "                # новый элемент\n",
    "#                print('добавляю',op)\n",
    "                ops[it][op]=n\n",
    "    \n",
    "    return (rels,ops)"
   ]
  },
  {
   "cell_type": "code",
   "execution_count": 20,
   "metadata": {
    "ExecuteTime": {
     "end_time": "2020-06-08T10:16:44.575522Z",
     "start_time": "2020-06-08T10:16:44.492517Z"
    }
   },
   "outputs": [
    {
     "data": {
      "text/plain": [
       "({'AAA', 'Aa'},\n",
       " [{(0, 1, 2): ''}, {(1, 2, 0): 'a', (2, 0, 1): 'A'}, {}, {}, {}])"
      ]
     },
     "execution_count": 20,
     "metadata": {},
     "output_type": "execute_result"
    }
   ],
   "source": [
    "gen_rels({(1,2,0):'a'},5)"
   ]
  },
  {
   "cell_type": "code",
   "execution_count": 26,
   "metadata": {
    "ExecuteTime": {
     "end_time": "2020-06-08T10:17:50.844312Z",
     "start_time": "2020-06-08T10:17:50.821311Z"
    },
    "scrolled": false
   },
   "outputs": [
    {
     "name": "stdout",
     "output_type": "stream",
     "text": [
      "AbA A -> Aba == aB\n",
      "ABBa a -> ABBA == bAb\n",
      "AbAb A -> BAAB == BaB\n",
      "AbAb a -> AbaB == BAb\n",
      "BBaBB == bAb  ->  \n",
      "ABBaBB == AbAb  ->  \n",
      "ABBaBa == BBAb  ->  \n"
     ]
    }
   ],
   "source": [
    "rels,ops = gen_rels({\n",
    "    from_cycle((0,1,2),4):'A',\n",
    "    inv(from_cycle((0,1,2,3),4)):'B',\n",
    "},10)"
   ]
  },
  {
   "cell_type": "code",
   "execution_count": 28,
   "metadata": {
    "ExecuteTime": {
     "end_time": "2020-06-08T10:17:55.497578Z",
     "start_time": "2020-06-08T10:17:55.488578Z"
    }
   },
   "outputs": [
    {
     "data": {
      "text/plain": [
       "[1, 4, 7, 7, 4, 1, 0, 0, 0, 0]"
      ]
     },
     "execution_count": 28,
     "metadata": {},
     "output_type": "execute_result"
    }
   ],
   "source": [
    "[len(lops) for lops in ops]"
   ]
  },
  {
   "cell_type": "code",
   "execution_count": 23,
   "metadata": {
    "ExecuteTime": {
     "end_time": "2020-06-08T10:16:44.958544Z",
     "start_time": "2020-06-08T10:16:44.842537Z"
    }
   },
   "outputs": [
    {
     "data": {
      "text/plain": [
       "{'AAA', 'ABAB', 'ABaBaBAb', 'Aa', 'BBBB', 'Bb'}"
      ]
     },
     "execution_count": 23,
     "metadata": {},
     "output_type": "execute_result"
    }
   ],
   "source": [
    "rels"
   ]
  },
  {
   "cell_type": "markdown",
   "metadata": {},
   "source": [
    "TODO\n",
    "* проверять различные траектории упрощений\n",
    "* * ? что могут дать усложнения?\n",
    "* давать номера элементам\n",
    "* по соотношениям:\n",
    "* * таблица умножения\n",
    "* по группе:\n",
    "* * сделать символьное умножение\n",
    "* * какие будут соотношения при других генераторах?\n",
    "* * генерация графа Кэли\n",
    "\n",
    "рассмотреть группы и их подгруппы и их произведения (прямое, полупрямое, ...):\n",
    "* просто перестановок: 3,4,5,6,7,8,9,10,11,12,13\n",
    "* тетраэр, куб/октаэдр, додекаэдр/икосаэдр\n",
    "* группы 4-мерных платоновых тел\n",
    "* пирамидка Рубика, кубик Рубика 2х2, кубик рубика 3х3"
   ]
  },
  {
   "cell_type": "code",
   "execution_count": null,
   "metadata": {},
   "outputs": [],
   "source": []
  }
 ],
 "metadata": {
  "hide_input": false,
  "kernelspec": {
   "display_name": "Python 3",
   "language": "python",
   "name": "python3"
  },
  "language_info": {
   "codemirror_mode": {
    "name": "ipython",
    "version": 3
   },
   "file_extension": ".py",
   "mimetype": "text/x-python",
   "name": "python",
   "nbconvert_exporter": "python",
   "pygments_lexer": "ipython3",
   "version": "3.6.7"
  }
 },
 "nbformat": 4,
 "nbformat_minor": 2
}
